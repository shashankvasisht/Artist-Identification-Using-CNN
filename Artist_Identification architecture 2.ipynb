{
 "cells": [
  {
   "cell_type": "code",
   "execution_count": 1,
   "metadata": {
    "collapsed": true
   },
   "outputs": [],
   "source": [
    "import os\n",
    "import tensorflow as tf\n",
    "import pandas as pd\n",
    "import numpy as np"
   ]
  },
  {
   "cell_type": "code",
   "execution_count": 2,
   "metadata": {
    "collapsed": true
   },
   "outputs": [],
   "source": [
    "batch_size = 22\n",
    "image_size = (56,56)\n",
    "\n",
    "#src_dir = '/home/shashank/Desktop/Project_IITD/Painter-by-Numbers/final_train_data/'\n",
    "dest_dir = '/home/shashank/Desktop/Project_IITD/Painter-by-Numbers/final_train_batches/'"
   ]
  },
  {
   "cell_type": "code",
   "execution_count": 3,
   "metadata": {
    "collapsed": true
   },
   "outputs": [],
   "source": [
    "batch_path = os.path.join(dest_dir,\"Batch-{}.npz\")\n",
    "train_batch_start_idx = 0\n",
    "train_batch_end_idx = 49\n",
    "val_batch_start_idx = 50\n",
    "val_batch_end_idx = 54\n",
    "test_batch_start_idx = 55\n",
    "test_batch_end_idx = 59"
   ]
  },
  {
   "cell_type": "code",
   "execution_count": 4,
   "metadata": {
    "collapsed": true
   },
   "outputs": [],
   "source": [
    "def Weight_variable(shape):\n",
    "    initial = tf.truncated_normal(shape,stddev=0.1)\n",
    "    return tf.Variable(initial)"
   ]
  },
  {
   "cell_type": "code",
   "execution_count": 5,
   "metadata": {
    "collapsed": true
   },
   "outputs": [],
   "source": [
    "def Bias_variable(shape):\n",
    "    initial = tf.constant(0.1, shape=shape)\n",
    "    return tf.Variable(initial)"
   ]
  },
  {
   "cell_type": "code",
   "execution_count": 6,
   "metadata": {
    "collapsed": true
   },
   "outputs": [],
   "source": [
    "def conv2d(x, W):\n",
    "    return tf.nn.conv2d(x, W, strides=[1, 1, 1, 1], padding='SAME')"
   ]
  },
  {
   "cell_type": "code",
   "execution_count": 7,
   "metadata": {
    "collapsed": true
   },
   "outputs": [],
   "source": [
    "def max_pool_2x2(x):\n",
    "    return tf.nn.max_pool(x, ksize=[1, 2, 2, 1],\n",
    "                        strides=[1, 2, 2, 1], padding='SAME')"
   ]
  },
  {
   "cell_type": "code",
   "execution_count": 8,
   "metadata": {
    "collapsed": true
   },
   "outputs": [],
   "source": [
    "x_pl = tf.placeholder(tf.float32,shape=[None,56,56,3])\n",
    "y_pl = tf.placeholder(tf.float32,shape=[None,9])"
   ]
  },
  {
   "cell_type": "code",
   "execution_count": 9,
   "metadata": {
    "collapsed": true
   },
   "outputs": [],
   "source": [
    "W_conv1 = Weight_variable([5,5,3,32])\n",
    "B_conv1 = Bias_variable([32])"
   ]
  },
  {
   "cell_type": "code",
   "execution_count": 10,
   "metadata": {},
   "outputs": [
    {
     "name": "stdout",
     "output_type": "stream",
     "text": [
      "(?, 28, 28, 32)\n"
     ]
    }
   ],
   "source": [
    "h_conv1 = tf.nn.relu(conv2d(x_pl,W_conv1)+B_conv1)\n",
    "h_pool1 = max_pool_2x2(h_conv1)\n",
    "print h_pool1.shape"
   ]
  },
  {
   "cell_type": "code",
   "execution_count": 11,
   "metadata": {
    "collapsed": true
   },
   "outputs": [],
   "source": [
    "W_conv2 = Weight_variable([5, 5, 32, 64])\n",
    "B_conv2 = Bias_variable([64])"
   ]
  },
  {
   "cell_type": "code",
   "execution_count": 12,
   "metadata": {},
   "outputs": [
    {
     "name": "stdout",
     "output_type": "stream",
     "text": [
      "(?, 14, 14, 64)\n"
     ]
    }
   ],
   "source": [
    "h_conv2 = tf.nn.relu(conv2d(h_pool1,W_conv2)+B_conv2)\n",
    "h_pool2 = max_pool_2x2(h_conv2)\n",
    "print h_pool2.shape"
   ]
  },
  {
   "cell_type": "code",
   "execution_count": 13,
   "metadata": {
    "collapsed": true
   },
   "outputs": [],
   "source": [
    "W_conv3 = Weight_variable([5, 5, 64, 128])\n",
    "B_conv3 = Bias_variable([128])"
   ]
  },
  {
   "cell_type": "code",
   "execution_count": 14,
   "metadata": {},
   "outputs": [
    {
     "name": "stdout",
     "output_type": "stream",
     "text": [
      "(?, 7, 7, 128)\n"
     ]
    }
   ],
   "source": [
    "h_conv3 = tf.nn.relu(conv2d(h_pool2,W_conv3)+B_conv3)\n",
    "h_pool3 = max_pool_2x2(h_conv3)\n",
    "print h_pool3.shape"
   ]
  },
  {
   "cell_type": "code",
   "execution_count": 15,
   "metadata": {},
   "outputs": [
    {
     "name": "stdout",
     "output_type": "stream",
     "text": [
      "(?, 128)\n"
     ]
    }
   ],
   "source": [
    "W_fc1 = Weight_variable([7 * 7 * 128, 128])\n",
    "B_fc1 = Bias_variable([128])\n",
    "\n",
    "h_pool3_flat = tf.reshape(h_pool3, [-1, 7*7*128])\n",
    "h_fc1 = tf.nn.relu(tf.matmul(h_pool3_flat, W_fc1) + B_fc1)\n",
    "print h_fc1.shape"
   ]
  },
  {
   "cell_type": "code",
   "execution_count": 16,
   "metadata": {},
   "outputs": [
    {
     "name": "stdout",
     "output_type": "stream",
     "text": [
      "(?, 64)\n"
     ]
    }
   ],
   "source": [
    "W_fc2 = Weight_variable([128, 64])\n",
    "B_fc2 = Bias_variable([64])\n",
    "\n",
    "h_fc2 = tf.nn.relu(tf.matmul(h_fc1,W_fc2)+B_fc2)\n",
    "print h_fc2.shape"
   ]
  },
  {
   "cell_type": "code",
   "execution_count": 17,
   "metadata": {
    "collapsed": true
   },
   "outputs": [],
   "source": [
    "keep_prob = tf.placeholder(tf.float32)\n",
    "h_fc2_drop = tf.nn.dropout(h_fc2, keep_prob)"
   ]
  },
  {
   "cell_type": "code",
   "execution_count": 18,
   "metadata": {},
   "outputs": [
    {
     "name": "stdout",
     "output_type": "stream",
     "text": [
      "(?, 9)\n"
     ]
    }
   ],
   "source": [
    "W_fc3 = Weight_variable([64,9])\n",
    "B_fc3 = Bias_variable([9])\n",
    "\n",
    "y_conv = tf.matmul(h_fc2_drop, W_fc3) + B_fc3\n",
    "print y_conv.shape"
   ]
  },
  {
   "cell_type": "code",
   "execution_count": 19,
   "metadata": {
    "collapsed": true
   },
   "outputs": [],
   "source": [
    "cross_entropy = tf.reduce_mean(\n",
    "    tf.nn.softmax_cross_entropy_with_logits(labels=y_pl, logits=y_conv))\n",
    "\n",
    "train_step = tf.train.AdamOptimizer(1e-4).minimize(cross_entropy)"
   ]
  },
  {
   "cell_type": "code",
   "execution_count": 20,
   "metadata": {
    "collapsed": true
   },
   "outputs": [],
   "source": [
    "correct_prediction = tf.equal(tf.argmax(y_conv, 1), tf.argmax(y_pl, 1))\n",
    "\n",
    "accuracy = tf.reduce_mean(tf.cast(correct_prediction, tf.float32))"
   ]
  },
  {
   "cell_type": "code",
   "execution_count": 21,
   "metadata": {
    "collapsed": true
   },
   "outputs": [],
   "source": [
    "train_hist = []\n",
    "val_hist = []\n",
    "test_hist = []"
   ]
  },
  {
   "cell_type": "code",
   "execution_count": 22,
   "metadata": {},
   "outputs": [
    {
     "name": "stdout",
     "output_type": "stream",
     "text": [
      "epoch number: 0\n",
      "-------------------------------------------\n",
      "train accuracy is : 15.3061228747 %\n",
      "validation accuracy is : 14.772727713 %\n",
      "testing accuracy 11.3636367023 %\n",
      "--------------------------------------------\n",
      "epoch number: 1\n",
      "-------------------------------------------\n",
      "train accuracy is : 19.3877555278 %\n",
      "validation accuracy is : 21.5909097344 %\n",
      "testing accuracy 13.6363640428 %\n",
      "--------------------------------------------\n",
      "epoch number: 2\n",
      "-------------------------------------------\n",
      "train accuracy is : 21.5213362964 %\n",
      "validation accuracy is : 13.6363640428 %\n",
      "testing accuracy 20.4545460641 %\n",
      "--------------------------------------------\n",
      "epoch number: 3\n",
      "-------------------------------------------\n",
      "train accuracy is : 22.0779225838 %\n",
      "validation accuracy is : 21.5909097344 %\n",
      "testing accuracy 20.4545460641 %\n",
      "--------------------------------------------\n",
      "epoch number: 4\n",
      "-------------------------------------------\n",
      "train accuracy is : 29.0352508426 %\n",
      "validation accuracy is : 26.1363640428 %\n",
      "testing accuracy 22.7272730321 %\n",
      "--------------------------------------------\n",
      "epoch number: 5\n",
      "-------------------------------------------\n",
      "train accuracy is : 29.6846015721 %\n",
      "validation accuracy is : 19.3181823939 %\n",
      "testing accuracy 28.4090910107 %\n",
      "--------------------------------------------\n",
      "epoch number: 6\n",
      "-------------------------------------------\n",
      "train accuracy is : 28.1076070301 %\n",
      "validation accuracy is : 18.1818187237 %\n",
      "testing accuracy 18.1818187237 %\n",
      "--------------------------------------------\n",
      "epoch number: 7\n",
      "-------------------------------------------\n",
      "train accuracy is : 30.7977740254 %\n",
      "validation accuracy is : 18.1818187237 %\n",
      "testing accuracy 23.8636367023 %\n",
      "--------------------------------------------\n",
      "epoch number: 8\n",
      "-------------------------------------------\n",
      "train accuracy is : 36.1781081071 %\n",
      "validation accuracy is : 28.4090910107 %\n",
      "testing accuracy 31.8181823939 %\n",
      "--------------------------------------------\n",
      "epoch number: 9\n",
      "-------------------------------------------\n",
      "train accuracy is : 35.6215218804 %\n",
      "validation accuracy is : 28.4090917557 %\n",
      "testing accuracy 29.5454550534 %\n",
      "--------------------------------------------\n",
      "epoch number: 10\n",
      "-------------------------------------------\n",
      "train accuracy is : 45.6400745073 %\n",
      "validation accuracy is : 30.6818187237 %\n",
      "testing accuracy 36.3636374474 %\n",
      "--------------------------------------------\n",
      "epoch number: 11\n",
      "-------------------------------------------\n",
      "train accuracy is : 45.6400744465 %\n",
      "validation accuracy is : 35.2272737771 %\n",
      "testing accuracy 36.3636367023 %\n",
      "--------------------------------------------\n",
      "epoch number: 12\n",
      "-------------------------------------------\n",
      "train accuracy is : 51.2987012158 %\n",
      "validation accuracy is : 39.7727280855 %\n",
      "testing accuracy 38.6363640428 %\n",
      "--------------------------------------------\n",
      "epoch number: 13\n",
      "-------------------------------------------\n",
      "train accuracy is : 45.361781546 %\n",
      "validation accuracy is : 39.7727273405 %\n",
      "testing accuracy 35.2272734046 %\n",
      "--------------------------------------------\n",
      "epoch number: 14\n",
      "-------------------------------------------\n",
      "train accuracy is : 50.7421154757 %\n",
      "validation accuracy is : 40.9090913832 %\n",
      "testing accuracy 39.7727273405 %\n",
      "--------------------------------------------\n",
      "epoch number: 15\n",
      "-------------------------------------------\n",
      "train accuracy is : 51.2987012158 %\n",
      "validation accuracy is : 40.9090913832 %\n",
      "testing accuracy 43.1818179786 %\n",
      "--------------------------------------------\n",
      "epoch number: 16\n",
      "-------------------------------------------\n",
      "train accuracy is : 57.6066790187 %\n",
      "validation accuracy is : 51.1363625526 %\n",
      "testing accuracy 43.1818187237 %\n",
      "--------------------------------------------\n",
      "epoch number: 17\n",
      "-------------------------------------------\n",
      "train accuracy is : 54.7309834738 %\n",
      "validation accuracy is : 43.1818194687 %\n",
      "testing accuracy 38.6363640428 %\n",
      "--------------------------------------------\n",
      "epoch number: 18\n",
      "-------------------------------------------\n",
      "train accuracy is : 62.0593692575 %\n",
      "validation accuracy is : 47.7272741497 %\n",
      "testing accuracy 46.5909086168 %\n",
      "--------------------------------------------\n",
      "epoch number: 19\n",
      "-------------------------------------------\n",
      "train accuracy is : 62.3376626141 %\n",
      "validation accuracy is : 52.2727273405 %\n",
      "testing accuracy 47.7272726595 %\n",
      "--------------------------------------------\n",
      "epoch number: 20\n",
      "-------------------------------------------\n",
      "train accuracy is : 58.1632651237 %\n",
      "validation accuracy is : 44.3181827664 %\n",
      "testing accuracy 46.5909086168 %\n",
      "--------------------------------------------\n",
      "epoch number: 21\n",
      "-------------------------------------------\n",
      "train accuracy is : 63.26530594 %\n",
      "validation accuracy is : 53.4090898931 %\n",
      "testing accuracy 49.9999985099 %\n",
      "--------------------------------------------\n",
      "epoch number: 22\n",
      "-------------------------------------------\n",
      "train accuracy is : 63.7291276333 %\n",
      "validation accuracy is : 52.2727280855 %\n",
      "testing accuracy 47.7272741497 %\n",
      "--------------------------------------------\n",
      "epoch number: 23\n",
      "-------------------------------------------\n",
      "train accuracy is : 67.2541739989 %\n",
      "validation accuracy is : 61.3636374474 %\n",
      "testing accuracy 52.2727280855 %\n",
      "--------------------------------------------\n",
      "epoch number: 24\n",
      "-------------------------------------------\n",
      "train accuracy is : 67.6252320105 %\n",
      "validation accuracy is : 57.9545453191 %\n",
      "testing accuracy 51.1363640428 %\n",
      "--------------------------------------------\n",
      "epoch number: 25\n",
      "-------------------------------------------\n",
      "train accuracy is : 68.1818179938 %\n",
      "validation accuracy is : 55.6818187237 %\n",
      "testing accuracy 47.7272734046 %\n",
      "--------------------------------------------\n",
      "epoch number: 26\n",
      "-------------------------------------------\n",
      "train accuracy is : 77.5510205298 %\n",
      "validation accuracy is : 62.5 %\n",
      "testing accuracy 60.2272719145 %\n",
      "--------------------------------------------\n",
      "epoch number: 27\n",
      "-------------------------------------------\n",
      "train accuracy is : 68.2745825879 %\n",
      "validation accuracy is : 57.954544574 %\n",
      "testing accuracy 45.4545460641 %\n",
      "--------------------------------------------\n",
      "epoch number: 28\n",
      "-------------------------------------------\n",
      "train accuracy is : 76.1595547199 %\n",
      "validation accuracy is : 65.909089148 %\n",
      "testing accuracy 51.1363632977 %\n",
      "--------------------------------------------\n",
      "epoch number: 29\n",
      "-------------------------------------------\n",
      "train accuracy is : 75.41743967 %\n",
      "validation accuracy is : 60.2272734046 %\n",
      "testing accuracy 56.8181827664 %\n",
      "--------------------------------------------\n"
     ]
    }
   ],
   "source": [
    "max_epochs = 30\n",
    "with tf.Session() as sess:\n",
    "    sess.run(tf.global_variables_initializer())\n",
    "    for ex in range(max_epochs):\n",
    "        print 'epoch number:',ex\n",
    "        print'-------------------------------------------'\n",
    "        for train_idx in range(train_batch_start_idx, train_batch_end_idx):\n",
    "            train = np.load(batch_path.format(train_idx))\n",
    "            train_step.run(feed_dict={x_pl: train[\"images\"], y_pl : train[\"labels\"], keep_prob : 0.5})\n",
    "            \n",
    "        train_accuracy = 0.0\n",
    "        for train_idx in range(train_batch_start_idx, train_batch_end_idx):\n",
    "            train = np.load(batch_path.format(train_idx))\n",
    "            train_accuracy += accuracy.eval(feed_dict={x_pl: train[\"images\"],y_pl:train[\"labels\"],keep_prob : 1.0  })\n",
    "        train_accuracy /= (train_batch_end_idx - train_batch_start_idx)\n",
    "        train_hist.append(train_accuracy)\n",
    "        print 'train accuracy is :',train_accuracy*100,'%'\n",
    "        \n",
    "        val_accuracy = 0.0\n",
    "        for val_idx in range(val_batch_start_idx, val_batch_end_idx):\n",
    "            val = np.load(batch_path.format(val_idx))\n",
    "            val_accuracy += accuracy.eval(feed_dict={x_pl: val[\"images\"],y_pl:val[\"labels\"],keep_prob : 1.0  })\n",
    "        val_accuracy /= (val_batch_end_idx - val_batch_start_idx)\n",
    "        val_hist.append(val_accuracy)\n",
    "        print 'validation accuracy is :',val_accuracy*100,'%'\n",
    "        \n",
    "        \n",
    "        test_accuracy = 0.0\n",
    "        for test_idx in range(test_batch_start_idx, test_batch_end_idx):\n",
    "            test = np.load(batch_path.format(test_idx))\n",
    "            test_accuracy += accuracy.eval(feed_dict={x_pl: test[\"images\"],y_pl:test[\"labels\"],keep_prob: 1.0  })\n",
    "        test_accuracy /= (test_batch_end_idx - test_batch_start_idx)\n",
    "        test_hist.append(test_accuracy)\n",
    "        print 'testing accuracy',test_accuracy*100,'%'\n",
    "        print'--------------------------------------------'"
   ]
  },
  {
   "cell_type": "code",
   "execution_count": 23,
   "metadata": {
    "collapsed": true
   },
   "outputs": [],
   "source": [
    "import matplotlib.pyplot as plt\n",
    "%matplotlib inline"
   ]
  },
  {
   "cell_type": "code",
   "execution_count": 24,
   "metadata": {},
   "outputs": [
    {
     "data": {
      "text/plain": [
       "<function matplotlib.pyplot.show>"
      ]
     },
     "execution_count": 24,
     "metadata": {},
     "output_type": "execute_result"
    },
    {
     "data": {
      "image/png": "[encoded data removed]",
      "text/plain": [
       "<matplotlib.figure.Figure at 0x7f058db29510>"
      ]
     },
     "metadata": {},
     "output_type": "display_data"
    }
   ],
   "source": [
    "plt.figure(0)\n",
    "plt.plot(train_hist,'r-',label='training accuracy')\n",
    "plt.plot(val_hist,'b--',label='validation accuracy')\n",
    "plt.plot(test_hist,'g-',label='testing accuracy')\n",
    "plt.legend(loc='best')\n",
    "plt.show\n"
   ]
  }
 ],
 "metadata": {
  "kernelspec": {
   "display_name": "Python 2",
   "language": "python",
   "name": "python2"
  },
  "language_info": {
   "codemirror_mode": {
    "name": "ipython",
    "version": 2
   },
   "file_extension": ".py",
   "mimetype": "text/x-python",
   "name": "python",
   "nbconvert_exporter": "python",
   "pygments_lexer": "ipython2",
   "version": "2.7.12"
  }
 },
 "nbformat": 4,
 "nbformat_minor": 2
}
